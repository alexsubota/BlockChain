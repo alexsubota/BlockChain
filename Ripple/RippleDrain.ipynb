{
 "cells": [
  {
   "cell_type": "code",
   "execution_count": 11,
   "metadata": {},
   "outputs": [],
   "source": [
    "import requests\n",
    "import json\n",
    "import time\n",
    "import pandas as pd"
   ]
  },
  {
   "cell_type": "code",
   "execution_count": 3,
   "metadata": {},
   "outputs": [],
   "source": [
    "CONST_RIPPLE_TRANSACTION_URL = 'https://data.ripple.com/v2/transactions/'"
   ]
  },
  {
   "cell_type": "code",
   "execution_count": 4,
   "metadata": {},
   "outputs": [],
   "source": [
    "class RippleTransaction:\n",
    "    \n",
    "    def __init__(self):\n",
    "        self.a = 1\n",
    "        \n",
    "    def makeGetTransactionRequest(self):\n",
    "        return json.dumps({\n",
    "            \"jsonrpc\": \"2.0\",\n",
    "            \"method\": \"getblock\",\n",
    "            \"params\": [self.numOfBlock, 1],\n",
    "            \"id\": 1\n",
    "        })"
   ]
  },
  {
   "cell_type": "code",
   "execution_count": 2,
   "metadata": {},
   "outputs": [],
   "source": [
    "q = RippleBlock()"
   ]
  },
  {
   "cell_type": "code",
   "execution_count": 69,
   "metadata": {},
   "outputs": [],
   "source": [
    "def makeGetTransactionRequest():\n",
    "    return json.dumps({\n",
    "        \"limit\": '1',\n",
    "        \"start\": '2017-11-01T06:55:50Z'\n",
    "    })"
   ]
  },
  {
   "cell_type": "code",
   "execution_count": 112,
   "metadata": {},
   "outputs": [
    {
     "name": "stdout",
     "output_type": "stream",
     "text": [
      "https://data.ripple.com/v2/transactions/?limit=1&start=2017-11-01T06%3A55%3A50\n"
     ]
    }
   ],
   "source": [
    "a = requests.get(CONST_RIPPLE_TRANSACTION_URL, params = {\n",
    "        \"limit\": '1',\n",
    "        \"start\": '2017-11-01T06:55:50'\n",
    "    })\n",
    "print (a.url)"
   ]
  },
  {
   "cell_type": "code",
   "execution_count": 105,
   "metadata": {},
   "outputs": [
    {
     "name": "stdout",
     "output_type": "stream",
     "text": [
      "https://data.ripple.com/v2/transactions/?limit=20&start=2018-03-01T06:55:50Z\n"
     ]
    }
   ],
   "source": [
    "a = requests.get('https://data.ripple.com/v2/transactions/?limit=20&start=2018-03-01T06:55:50Z')\n",
    "#json.loads(a.text)\n",
    "print (a.url)"
   ]
  },
  {
   "cell_type": "code",
   "execution_count": 106,
   "metadata": {},
   "outputs": [
    {
     "data": {
      "text/plain": [
       "'https://data.ripple.com/v2/transactions/?limit=20&start=2018-03-01T06:55:50Z'"
      ]
     },
     "execution_count": 106,
     "metadata": {},
     "output_type": "execute_result"
    }
   ],
   "source": [
    "a.url"
   ]
  },
  {
   "cell_type": "code",
   "execution_count": 107,
   "metadata": {},
   "outputs": [],
   "source": [
    "#a.text"
   ]
  },
  {
   "cell_type": "code",
   "execution_count": 108,
   "metadata": {},
   "outputs": [],
   "source": [
    "a = json.loads(a.text)['transactions']"
   ]
  },
  {
   "cell_type": "code",
   "execution_count": 109,
   "metadata": {},
   "outputs": [
    {
     "data": {
      "text/plain": [
       "'2018-03-01T06:55:51+00:00'"
      ]
     },
     "execution_count": 109,
     "metadata": {},
     "output_type": "execute_result"
    }
   ],
   "source": [
    "a[19]['date']"
   ]
  },
  {
   "cell_type": "code",
   "execution_count": 113,
   "metadata": {},
   "outputs": [
    {
     "data": {
      "text/plain": [
       "'61FDD0BCC4426791CBD90B8DF708973DFCD9739E9EA070B02AC2CE1B73758F9E'"
      ]
     },
     "execution_count": 113,
     "metadata": {},
     "output_type": "execute_result"
    }
   ],
   "source": [
    "#a[0]['ledger_index']\n",
    "a[10]['ledger_hash']\n",
    "# a[0]['hash']\n",
    "# a[0]['date']"
   ]
  },
  {
   "cell_type": "code",
   "execution_count": 114,
   "metadata": {},
   "outputs": [
    {
     "data": {
      "text/plain": [
       "{'date': '2018-03-01T06:55:50+00:00',\n",
       " 'hash': 'C6C797769477F8F7776A7C688CDCBA66472FD65105998B3BBA89FD452F66DEB5',\n",
       " 'ledger_hash': '61FDD0BCC4426791CBD90B8DF708973DFCD9739E9EA070B02AC2CE1B73758F9E',\n",
       " 'ledger_index': 36911800,\n",
       " 'meta': {'AffectedNodes': [{'ModifiedNode': {'FinalFields': {'Account': 'rw7m3CtVHwGSdhFjV4MyJozmZJv3DYQnsA',\n",
       "      'Balance': '182759507549282',\n",
       "      'Flags': 131072,\n",
       "      'OwnerCount': 0,\n",
       "      'Sequence': 142},\n",
       "     'LedgerEntryType': 'AccountRoot',\n",
       "     'LedgerIndex': '84014E16A7E42F0D76F016808EDCFBDA351BD6181D676167C7CCB198252E9F82',\n",
       "     'PreviousFields': {'Balance': '182639718549282'},\n",
       "     'PreviousTxnID': '810527DCEB68D77E9E4A7941D54CE3FC3AF449875827E45E77855DAA64DD2161',\n",
       "     'PreviousTxnLgrSeq': 36911761}},\n",
       "   {'ModifiedNode': {'FinalFields': {'Account': 'rGyBJwNbs8UurkV1rPb5BnjzYGzzW4cYAa',\n",
       "      'Balance': '117470999970',\n",
       "      'Flags': 0,\n",
       "      'OwnerCount': 0,\n",
       "      'Sequence': 4},\n",
       "     'LedgerEntryType': 'AccountRoot',\n",
       "     'LedgerIndex': 'C9B96332F9C196DE89DC56F793BBC93D22E7382D33C7BAFF2FB766CFA43B5F21',\n",
       "     'PreviousFields': {'Balance': '237259999980', 'Sequence': 3},\n",
       "     'PreviousTxnID': 'B0F387DF2CDA4A6B24F8EFB146C206F7C84856C4F1F4EFC5756B1811476BC760',\n",
       "     'PreviousTxnLgrSeq': 36911675}}],\n",
       "  'TransactionIndex': 10,\n",
       "  'TransactionResult': 'tesSUCCESS',\n",
       "  'delivered_amount': '119789000000'},\n",
       " 'tx': {'Account': 'rGyBJwNbs8UurkV1rPb5BnjzYGzzW4cYAa',\n",
       "  'Amount': '119789000000',\n",
       "  'Destination': 'rw7m3CtVHwGSdhFjV4MyJozmZJv3DYQnsA',\n",
       "  'DestinationTag': 1053861,\n",
       "  'Fee': '10',\n",
       "  'Flags': 2147483648,\n",
       "  'LastLedgerSequence': 36911805,\n",
       "  'Sequence': 3,\n",
       "  'SigningPubKey': '024AF9F75A668F41C6CAB0FD0AD92C07FFAA6FF7D12A9358254210888710749345',\n",
       "  'TransactionType': 'Payment',\n",
       "  'TxnSignature': '3045022100D84B27350C037D4D709E7F96BB98F57CEE15683CE309C190AD49F42F2ABB342A02201B744A0CBB7385F81C2CB85FC428DFCE2DDE50DBD8A7E0217A31A83243202D64'}}"
      ]
     },
     "execution_count": 114,
     "metadata": {},
     "output_type": "execute_result"
    }
   ],
   "source": [
    "a[10]"
   ]
  },
  {
   "cell_type": "code",
   "execution_count": 14,
   "metadata": {},
   "outputs": [],
   "source": [
    "q = pd.DataFrame.from_dict(a)"
   ]
  },
  {
   "cell_type": "code",
   "execution_count": 16,
   "metadata": {},
   "outputs": [
    {
     "data": {
      "text/html": [
       "<div>\n",
       "<style>\n",
       "    .dataframe thead tr:only-child th {\n",
       "        text-align: right;\n",
       "    }\n",
       "\n",
       "    .dataframe thead th {\n",
       "        text-align: left;\n",
       "    }\n",
       "\n",
       "    .dataframe tbody tr th {\n",
       "        vertical-align: top;\n",
       "    }\n",
       "</style>\n",
       "<table border=\"1\" class=\"dataframe\">\n",
       "  <thead>\n",
       "    <tr style=\"text-align: right;\">\n",
       "      <th></th>\n",
       "      <th>date</th>\n",
       "      <th>hash</th>\n",
       "      <th>ledger_hash</th>\n",
       "      <th>ledger_index</th>\n",
       "      <th>meta</th>\n",
       "      <th>tx</th>\n",
       "    </tr>\n",
       "  </thead>\n",
       "  <tbody>\n",
       "    <tr>\n",
       "      <th>0</th>\n",
       "      <td>2017-11-01T06:55:50+00:00</td>\n",
       "      <td>7D75BA11453F6ADD0F5984E501E40413689F7BDB402716...</td>\n",
       "      <td>58B4999A7CA48F55F16AC4C1E98CFDF96EEF6B0489215D...</td>\n",
       "      <td>33905491</td>\n",
       "      <td>{'TransactionIndex': 0, 'AffectedNodes': [{'Cr...</td>\n",
       "      <td>{'TransactionType': 'OfferCreate', 'Flags': 52...</td>\n",
       "    </tr>\n",
       "    <tr>\n",
       "      <th>1</th>\n",
       "      <td>2017-11-01T06:55:50+00:00</td>\n",
       "      <td>7BB73F6B764B5DC14E7B846C5FB1F6F1193C0D96BCC8E8...</td>\n",
       "      <td>58B4999A7CA48F55F16AC4C1E98CFDF96EEF6B0489215D...</td>\n",
       "      <td>33905491</td>\n",
       "      <td>{'TransactionIndex': 1, 'AffectedNodes': [{'De...</td>\n",
       "      <td>{'TransactionType': 'OfferCreate', 'Flags': 52...</td>\n",
       "    </tr>\n",
       "    <tr>\n",
       "      <th>2</th>\n",
       "      <td>2017-11-01T06:55:50+00:00</td>\n",
       "      <td>45621AA6278B5BE5948FEC8329B9937B86882549DDD35F...</td>\n",
       "      <td>58B4999A7CA48F55F16AC4C1E98CFDF96EEF6B0489215D...</td>\n",
       "      <td>33905491</td>\n",
       "      <td>{'TransactionIndex': 2, 'AffectedNodes': [{'De...</td>\n",
       "      <td>{'TransactionType': 'OfferCreate', 'Flags': 52...</td>\n",
       "    </tr>\n",
       "    <tr>\n",
       "      <th>3</th>\n",
       "      <td>2017-11-01T06:55:50+00:00</td>\n",
       "      <td>B5205CE464FFFD6202DAA2A4AD53B7B8CA8E69C836ACA8...</td>\n",
       "      <td>58B4999A7CA48F55F16AC4C1E98CFDF96EEF6B0489215D...</td>\n",
       "      <td>33905491</td>\n",
       "      <td>{'TransactionIndex': 3, 'AffectedNodes': [{'Cr...</td>\n",
       "      <td>{'TransactionType': 'OfferCreate', 'Flags': 52...</td>\n",
       "    </tr>\n",
       "    <tr>\n",
       "      <th>4</th>\n",
       "      <td>2017-11-01T06:55:50+00:00</td>\n",
       "      <td>EAC6B56BFBC6478EBE5CBA9B9DD11148E70C39AA8757C4...</td>\n",
       "      <td>58B4999A7CA48F55F16AC4C1E98CFDF96EEF6B0489215D...</td>\n",
       "      <td>33905491</td>\n",
       "      <td>{'TransactionIndex': 4, 'AffectedNodes': [{'Cr...</td>\n",
       "      <td>{'TransactionType': 'OfferCreate', 'Flags': 52...</td>\n",
       "    </tr>\n",
       "    <tr>\n",
       "      <th>5</th>\n",
       "      <td>2017-11-01T06:55:50+00:00</td>\n",
       "      <td>DBC08CAD5E795C4FC105C59DBE3FC56A2706F871587EE6...</td>\n",
       "      <td>58B4999A7CA48F55F16AC4C1E98CFDF96EEF6B0489215D...</td>\n",
       "      <td>33905491</td>\n",
       "      <td>{'TransactionIndex': 5, 'AffectedNodes': [{'Cr...</td>\n",
       "      <td>{'TransactionType': 'OfferCreate', 'Flags': 52...</td>\n",
       "    </tr>\n",
       "    <tr>\n",
       "      <th>6</th>\n",
       "      <td>2017-11-01T06:55:50+00:00</td>\n",
       "      <td>8FBC1E8807FA4C25AE4B118A4197950B4178F836D8C7B8...</td>\n",
       "      <td>58B4999A7CA48F55F16AC4C1E98CFDF96EEF6B0489215D...</td>\n",
       "      <td>33905491</td>\n",
       "      <td>{'TransactionIndex': 6, 'AffectedNodes': [{'Cr...</td>\n",
       "      <td>{'TransactionType': 'OfferCreate', 'Flags': 52...</td>\n",
       "    </tr>\n",
       "    <tr>\n",
       "      <th>7</th>\n",
       "      <td>2017-11-01T06:55:50+00:00</td>\n",
       "      <td>1471A8BBA59CDE9DC71E16F0FCC700AAE85DCA015ECD50...</td>\n",
       "      <td>58B4999A7CA48F55F16AC4C1E98CFDF96EEF6B0489215D...</td>\n",
       "      <td>33905491</td>\n",
       "      <td>{'TransactionIndex': 7, 'AffectedNodes': [{'Mo...</td>\n",
       "      <td>{'TransactionType': 'OfferCreate', 'Sequence':...</td>\n",
       "    </tr>\n",
       "    <tr>\n",
       "      <th>8</th>\n",
       "      <td>2017-11-01T06:55:50+00:00</td>\n",
       "      <td>D9F03AF8CBB82A11BA6026DB03F4DECE1195CAC8E29A5E...</td>\n",
       "      <td>58B4999A7CA48F55F16AC4C1E98CFDF96EEF6B0489215D...</td>\n",
       "      <td>33905491</td>\n",
       "      <td>{'TransactionIndex': 8, 'AffectedNodes': [{'Cr...</td>\n",
       "      <td>{'TransactionType': 'OfferCreate', 'Sequence':...</td>\n",
       "    </tr>\n",
       "    <tr>\n",
       "      <th>9</th>\n",
       "      <td>2017-11-01T06:55:50+00:00</td>\n",
       "      <td>FE3E59F8A826AE31D9A398361CE1E2C1AEBC79D38A8E60...</td>\n",
       "      <td>58B4999A7CA48F55F16AC4C1E98CFDF96EEF6B0489215D...</td>\n",
       "      <td>33905491</td>\n",
       "      <td>{'TransactionIndex': 9, 'AffectedNodes': [{'Cr...</td>\n",
       "      <td>{'TransactionType': 'OfferCreate', 'Sequence':...</td>\n",
       "    </tr>\n",
       "    <tr>\n",
       "      <th>10</th>\n",
       "      <td>2017-11-01T06:55:50+00:00</td>\n",
       "      <td>6CB67C78EA4FA869F88D6A4FBB4DCB5A03B5FD1DD018B9...</td>\n",
       "      <td>58B4999A7CA48F55F16AC4C1E98CFDF96EEF6B0489215D...</td>\n",
       "      <td>33905491</td>\n",
       "      <td>{'TransactionIndex': 10, 'AffectedNodes': [{'C...</td>\n",
       "      <td>{'TransactionType': 'OfferCreate', 'Sequence':...</td>\n",
       "    </tr>\n",
       "    <tr>\n",
       "      <th>11</th>\n",
       "      <td>2017-11-01T06:55:50+00:00</td>\n",
       "      <td>2FC94864F57CCD0CB4411C06CB0678ACA4340CA9C96A7F...</td>\n",
       "      <td>58B4999A7CA48F55F16AC4C1E98CFDF96EEF6B0489215D...</td>\n",
       "      <td>33905491</td>\n",
       "      <td>{'TransactionIndex': 11, 'AffectedNodes': [{'C...</td>\n",
       "      <td>{'TransactionType': 'OfferCreate', 'Sequence':...</td>\n",
       "    </tr>\n",
       "    <tr>\n",
       "      <th>12</th>\n",
       "      <td>2017-11-01T06:55:50+00:00</td>\n",
       "      <td>BAF0E1783B455D297D6F53AD2A0C9B2DB43846AE6B2D79...</td>\n",
       "      <td>58B4999A7CA48F55F16AC4C1E98CFDF96EEF6B0489215D...</td>\n",
       "      <td>33905491</td>\n",
       "      <td>{'TransactionIndex': 12, 'AffectedNodes': [{'D...</td>\n",
       "      <td>{'TransactionType': 'OfferCancel', 'Flags': 21...</td>\n",
       "    </tr>\n",
       "    <tr>\n",
       "      <th>13</th>\n",
       "      <td>2017-11-01T06:55:50+00:00</td>\n",
       "      <td>FB68B519C2BF58B22B7D0A518369644673CD987CBEF766...</td>\n",
       "      <td>58B4999A7CA48F55F16AC4C1E98CFDF96EEF6B0489215D...</td>\n",
       "      <td>33905491</td>\n",
       "      <td>{'TransactionIndex': 13, 'AffectedNodes': [{'D...</td>\n",
       "      <td>{'TransactionType': 'OfferCancel', 'Flags': 21...</td>\n",
       "    </tr>\n",
       "    <tr>\n",
       "      <th>14</th>\n",
       "      <td>2017-11-01T06:55:50+00:00</td>\n",
       "      <td>A75CEEE58AD81B7866AF509012A0F5805F97F5DCC7614A...</td>\n",
       "      <td>58B4999A7CA48F55F16AC4C1E98CFDF96EEF6B0489215D...</td>\n",
       "      <td>33905491</td>\n",
       "      <td>{'TransactionIndex': 14, 'AffectedNodes': [{'D...</td>\n",
       "      <td>{'TransactionType': 'OfferCancel', 'Flags': 21...</td>\n",
       "    </tr>\n",
       "    <tr>\n",
       "      <th>15</th>\n",
       "      <td>2017-11-01T06:55:50+00:00</td>\n",
       "      <td>45C51C1D2DCD6C33D27CDBF1C9522894718DDDC4BCDF91...</td>\n",
       "      <td>58B4999A7CA48F55F16AC4C1E98CFDF96EEF6B0489215D...</td>\n",
       "      <td>33905491</td>\n",
       "      <td>{'TransactionIndex': 15, 'AffectedNodes': [{'D...</td>\n",
       "      <td>{'TransactionType': 'OfferCancel', 'Flags': 21...</td>\n",
       "    </tr>\n",
       "    <tr>\n",
       "      <th>16</th>\n",
       "      <td>2017-11-01T06:55:50+00:00</td>\n",
       "      <td>A46AD870242013E53F4F3C3D3D8CBC753CD8BFC9B331AF...</td>\n",
       "      <td>58B4999A7CA48F55F16AC4C1E98CFDF96EEF6B0489215D...</td>\n",
       "      <td>33905491</td>\n",
       "      <td>{'TransactionIndex': 16, 'AffectedNodes': [{'D...</td>\n",
       "      <td>{'TransactionType': 'OfferCancel', 'Flags': 21...</td>\n",
       "    </tr>\n",
       "    <tr>\n",
       "      <th>17</th>\n",
       "      <td>2017-11-01T06:55:50+00:00</td>\n",
       "      <td>17648399219FD2996107394C79FE3BF0F5315B092A8EE5...</td>\n",
       "      <td>58B4999A7CA48F55F16AC4C1E98CFDF96EEF6B0489215D...</td>\n",
       "      <td>33905491</td>\n",
       "      <td>{'TransactionIndex': 17, 'AffectedNodes': [{'D...</td>\n",
       "      <td>{'TransactionType': 'OfferCancel', 'Flags': 21...</td>\n",
       "    </tr>\n",
       "    <tr>\n",
       "      <th>18</th>\n",
       "      <td>2017-11-01T06:55:50+00:00</td>\n",
       "      <td>4BFF87D962236DEAE7B4A107CBA76A1A1F82D88BF2A05B...</td>\n",
       "      <td>58B4999A7CA48F55F16AC4C1E98CFDF96EEF6B0489215D...</td>\n",
       "      <td>33905491</td>\n",
       "      <td>{'TransactionIndex': 18, 'AffectedNodes': [{'C...</td>\n",
       "      <td>{'TransactionType': 'OfferCreate', 'Flags': 21...</td>\n",
       "    </tr>\n",
       "    <tr>\n",
       "      <th>19</th>\n",
       "      <td>2017-11-01T06:55:50+00:00</td>\n",
       "      <td>8DCFACBA29643565B45261B8E64106AC3DD2EF34F321A5...</td>\n",
       "      <td>58B4999A7CA48F55F16AC4C1E98CFDF96EEF6B0489215D...</td>\n",
       "      <td>33905491</td>\n",
       "      <td>{'TransactionIndex': 19, 'AffectedNodes': [{'M...</td>\n",
       "      <td>{'TransactionType': 'OfferCreate', 'Flags': 21...</td>\n",
       "    </tr>\n",
       "  </tbody>\n",
       "</table>\n",
       "</div>"
      ],
      "text/plain": [
       "                         date  \\\n",
       "0   2017-11-01T06:55:50+00:00   \n",
       "1   2017-11-01T06:55:50+00:00   \n",
       "2   2017-11-01T06:55:50+00:00   \n",
       "3   2017-11-01T06:55:50+00:00   \n",
       "4   2017-11-01T06:55:50+00:00   \n",
       "5   2017-11-01T06:55:50+00:00   \n",
       "6   2017-11-01T06:55:50+00:00   \n",
       "7   2017-11-01T06:55:50+00:00   \n",
       "8   2017-11-01T06:55:50+00:00   \n",
       "9   2017-11-01T06:55:50+00:00   \n",
       "10  2017-11-01T06:55:50+00:00   \n",
       "11  2017-11-01T06:55:50+00:00   \n",
       "12  2017-11-01T06:55:50+00:00   \n",
       "13  2017-11-01T06:55:50+00:00   \n",
       "14  2017-11-01T06:55:50+00:00   \n",
       "15  2017-11-01T06:55:50+00:00   \n",
       "16  2017-11-01T06:55:50+00:00   \n",
       "17  2017-11-01T06:55:50+00:00   \n",
       "18  2017-11-01T06:55:50+00:00   \n",
       "19  2017-11-01T06:55:50+00:00   \n",
       "\n",
       "                                                 hash  \\\n",
       "0   7D75BA11453F6ADD0F5984E501E40413689F7BDB402716...   \n",
       "1   7BB73F6B764B5DC14E7B846C5FB1F6F1193C0D96BCC8E8...   \n",
       "2   45621AA6278B5BE5948FEC8329B9937B86882549DDD35F...   \n",
       "3   B5205CE464FFFD6202DAA2A4AD53B7B8CA8E69C836ACA8...   \n",
       "4   EAC6B56BFBC6478EBE5CBA9B9DD11148E70C39AA8757C4...   \n",
       "5   DBC08CAD5E795C4FC105C59DBE3FC56A2706F871587EE6...   \n",
       "6   8FBC1E8807FA4C25AE4B118A4197950B4178F836D8C7B8...   \n",
       "7   1471A8BBA59CDE9DC71E16F0FCC700AAE85DCA015ECD50...   \n",
       "8   D9F03AF8CBB82A11BA6026DB03F4DECE1195CAC8E29A5E...   \n",
       "9   FE3E59F8A826AE31D9A398361CE1E2C1AEBC79D38A8E60...   \n",
       "10  6CB67C78EA4FA869F88D6A4FBB4DCB5A03B5FD1DD018B9...   \n",
       "11  2FC94864F57CCD0CB4411C06CB0678ACA4340CA9C96A7F...   \n",
       "12  BAF0E1783B455D297D6F53AD2A0C9B2DB43846AE6B2D79...   \n",
       "13  FB68B519C2BF58B22B7D0A518369644673CD987CBEF766...   \n",
       "14  A75CEEE58AD81B7866AF509012A0F5805F97F5DCC7614A...   \n",
       "15  45C51C1D2DCD6C33D27CDBF1C9522894718DDDC4BCDF91...   \n",
       "16  A46AD870242013E53F4F3C3D3D8CBC753CD8BFC9B331AF...   \n",
       "17  17648399219FD2996107394C79FE3BF0F5315B092A8EE5...   \n",
       "18  4BFF87D962236DEAE7B4A107CBA76A1A1F82D88BF2A05B...   \n",
       "19  8DCFACBA29643565B45261B8E64106AC3DD2EF34F321A5...   \n",
       "\n",
       "                                          ledger_hash  ledger_index  \\\n",
       "0   58B4999A7CA48F55F16AC4C1E98CFDF96EEF6B0489215D...      33905491   \n",
       "1   58B4999A7CA48F55F16AC4C1E98CFDF96EEF6B0489215D...      33905491   \n",
       "2   58B4999A7CA48F55F16AC4C1E98CFDF96EEF6B0489215D...      33905491   \n",
       "3   58B4999A7CA48F55F16AC4C1E98CFDF96EEF6B0489215D...      33905491   \n",
       "4   58B4999A7CA48F55F16AC4C1E98CFDF96EEF6B0489215D...      33905491   \n",
       "5   58B4999A7CA48F55F16AC4C1E98CFDF96EEF6B0489215D...      33905491   \n",
       "6   58B4999A7CA48F55F16AC4C1E98CFDF96EEF6B0489215D...      33905491   \n",
       "7   58B4999A7CA48F55F16AC4C1E98CFDF96EEF6B0489215D...      33905491   \n",
       "8   58B4999A7CA48F55F16AC4C1E98CFDF96EEF6B0489215D...      33905491   \n",
       "9   58B4999A7CA48F55F16AC4C1E98CFDF96EEF6B0489215D...      33905491   \n",
       "10  58B4999A7CA48F55F16AC4C1E98CFDF96EEF6B0489215D...      33905491   \n",
       "11  58B4999A7CA48F55F16AC4C1E98CFDF96EEF6B0489215D...      33905491   \n",
       "12  58B4999A7CA48F55F16AC4C1E98CFDF96EEF6B0489215D...      33905491   \n",
       "13  58B4999A7CA48F55F16AC4C1E98CFDF96EEF6B0489215D...      33905491   \n",
       "14  58B4999A7CA48F55F16AC4C1E98CFDF96EEF6B0489215D...      33905491   \n",
       "15  58B4999A7CA48F55F16AC4C1E98CFDF96EEF6B0489215D...      33905491   \n",
       "16  58B4999A7CA48F55F16AC4C1E98CFDF96EEF6B0489215D...      33905491   \n",
       "17  58B4999A7CA48F55F16AC4C1E98CFDF96EEF6B0489215D...      33905491   \n",
       "18  58B4999A7CA48F55F16AC4C1E98CFDF96EEF6B0489215D...      33905491   \n",
       "19  58B4999A7CA48F55F16AC4C1E98CFDF96EEF6B0489215D...      33905491   \n",
       "\n",
       "                                                 meta  \\\n",
       "0   {'TransactionIndex': 0, 'AffectedNodes': [{'Cr...   \n",
       "1   {'TransactionIndex': 1, 'AffectedNodes': [{'De...   \n",
       "2   {'TransactionIndex': 2, 'AffectedNodes': [{'De...   \n",
       "3   {'TransactionIndex': 3, 'AffectedNodes': [{'Cr...   \n",
       "4   {'TransactionIndex': 4, 'AffectedNodes': [{'Cr...   \n",
       "5   {'TransactionIndex': 5, 'AffectedNodes': [{'Cr...   \n",
       "6   {'TransactionIndex': 6, 'AffectedNodes': [{'Cr...   \n",
       "7   {'TransactionIndex': 7, 'AffectedNodes': [{'Mo...   \n",
       "8   {'TransactionIndex': 8, 'AffectedNodes': [{'Cr...   \n",
       "9   {'TransactionIndex': 9, 'AffectedNodes': [{'Cr...   \n",
       "10  {'TransactionIndex': 10, 'AffectedNodes': [{'C...   \n",
       "11  {'TransactionIndex': 11, 'AffectedNodes': [{'C...   \n",
       "12  {'TransactionIndex': 12, 'AffectedNodes': [{'D...   \n",
       "13  {'TransactionIndex': 13, 'AffectedNodes': [{'D...   \n",
       "14  {'TransactionIndex': 14, 'AffectedNodes': [{'D...   \n",
       "15  {'TransactionIndex': 15, 'AffectedNodes': [{'D...   \n",
       "16  {'TransactionIndex': 16, 'AffectedNodes': [{'D...   \n",
       "17  {'TransactionIndex': 17, 'AffectedNodes': [{'D...   \n",
       "18  {'TransactionIndex': 18, 'AffectedNodes': [{'C...   \n",
       "19  {'TransactionIndex': 19, 'AffectedNodes': [{'M...   \n",
       "\n",
       "                                                   tx  \n",
       "0   {'TransactionType': 'OfferCreate', 'Flags': 52...  \n",
       "1   {'TransactionType': 'OfferCreate', 'Flags': 52...  \n",
       "2   {'TransactionType': 'OfferCreate', 'Flags': 52...  \n",
       "3   {'TransactionType': 'OfferCreate', 'Flags': 52...  \n",
       "4   {'TransactionType': 'OfferCreate', 'Flags': 52...  \n",
       "5   {'TransactionType': 'OfferCreate', 'Flags': 52...  \n",
       "6   {'TransactionType': 'OfferCreate', 'Flags': 52...  \n",
       "7   {'TransactionType': 'OfferCreate', 'Sequence':...  \n",
       "8   {'TransactionType': 'OfferCreate', 'Sequence':...  \n",
       "9   {'TransactionType': 'OfferCreate', 'Sequence':...  \n",
       "10  {'TransactionType': 'OfferCreate', 'Sequence':...  \n",
       "11  {'TransactionType': 'OfferCreate', 'Sequence':...  \n",
       "12  {'TransactionType': 'OfferCancel', 'Flags': 21...  \n",
       "13  {'TransactionType': 'OfferCancel', 'Flags': 21...  \n",
       "14  {'TransactionType': 'OfferCancel', 'Flags': 21...  \n",
       "15  {'TransactionType': 'OfferCancel', 'Flags': 21...  \n",
       "16  {'TransactionType': 'OfferCancel', 'Flags': 21...  \n",
       "17  {'TransactionType': 'OfferCancel', 'Flags': 21...  \n",
       "18  {'TransactionType': 'OfferCreate', 'Flags': 21...  \n",
       "19  {'TransactionType': 'OfferCreate', 'Flags': 21...  "
      ]
     },
     "execution_count": 16,
     "metadata": {},
     "output_type": "execute_result"
    }
   ],
   "source": [
    "q"
   ]
  },
  {
   "cell_type": "code",
   "execution_count": 97,
   "metadata": {},
   "outputs": [
    {
     "data": {
      "text/plain": [
       "datetime.date(2018, 4, 1)"
      ]
     },
     "execution_count": 97,
     "metadata": {},
     "output_type": "execute_result"
    }
   ],
   "source": [
    "q"
   ]
  },
  {
   "cell_type": "code",
   "execution_count": null,
   "metadata": {},
   "outputs": [],
   "source": []
  }
 ],
 "metadata": {
  "kernelspec": {
   "display_name": "Python 3",
   "language": "python",
   "name": "python3"
  },
  "language_info": {
   "codemirror_mode": {
    "name": "ipython",
    "version": 3
   },
   "file_extension": ".py",
   "mimetype": "text/x-python",
   "name": "python",
   "nbconvert_exporter": "python",
   "pygments_lexer": "ipython3",
   "version": "3.6.4"
  }
 },
 "nbformat": 4,
 "nbformat_minor": 2
}
