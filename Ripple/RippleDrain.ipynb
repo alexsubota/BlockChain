{
 "cells": [
  {
   "cell_type": "code",
   "execution_count": 116,
   "metadata": {},
   "outputs": [],
   "source": [
    "import requests\n",
    "import json\n",
    "import time\n",
    "import elasticsearch"
   ]
  },
  {
   "cell_type": "code",
   "execution_count": 282,
   "metadata": {},
   "outputs": [],
   "source": [
    "CONST_RIPPLE_URL = 'https://data.ripple.com/v2/'\n",
    "CONST_RIPPLE_HEALTH_CHECK = 'https://data.ripple.com/v2/health/importer?verbose=true'\n",
    "CONST_ELASTIC_URL = 'http://localhost:9200'\n",
    "CONST_ELASTIC_MAXSIZE = 25\n",
    "CONST_ELASTIC_TIMEOUT = 30\n",
    "CONST_ELASTIC_MAXRETRIES = 10\n",
    "CONST_ELASTIC_LEDGER_NAME = \"Ledger\"\n",
    "CONST_ELASTIC_TRANSACTION_NAME = \"Transaction\""
   ]
  },
  {
   "cell_type": "code",
   "execution_count": 214,
   "metadata": {},
   "outputs": [],
   "source": [
    "class RippleLedger:\n",
    "    \n",
    "    def __init__(self, LedgerIndex):\n",
    "        #self.makeGetLedgerRequest(LedgerIndex)\n",
    "        requestResult = self.makeGetLedgerRequest(LedgerIndex)\n",
    "        if requestResult['result'] == 'success':\n",
    "            #del start\n",
    "            self.l = requestResult['ledger']\n",
    "            #del finish\n",
    "            self.extract(requestResult['ledger'])\n",
    "        else:\n",
    "            self.result = 'error'\n",
    "        \n",
    "    @staticmethod\n",
    "    def makeGetLedgerRequest(LedgerIndex):\n",
    "        requestResult = json.loads(requests.get(CONST_RIPPLE_TRANSACTION_URL + 'ledgers/' + str(LedgerIndex) \n",
    "                                   + '?transactions=true&binary=false&expand=true').text)\n",
    "        return requestResult\n",
    "\n",
    "    def extract(self, LedgerObject):\n",
    "        self.Transactions = LedgerObject.pop('transactions')\n",
    "        self.LedgerHeader = LedgerObject"
   ]
  },
  {
   "cell_type": "code",
   "execution_count": 215,
   "metadata": {},
   "outputs": [],
   "source": [
    "class ElasticRipple:\n",
    "    \n",
    "    def __init__(self):\n",
    "        self.elasticDatabase = elasticsearch.Elasticsearch([CONST_ELASTIC_URL], maxsize = CONST_ELASTIC_MAXSIZE,\n",
    "                                        timeout = CONST_ELASTIC_TIMEOUT, max_retries = CONST_ELASTIC_MAXRETRIES, \n",
    "                                        retry_on_timeout=True)\n",
    "    \n",
    "    def addLedger(LedgerObject):\n",
    "        elasticDatabase.index(index = CONST_ELASTIC_LEDGER_NAME, doc_type = 'b', body = LedgerObject)\n",
    "    \n",
    "    @staticmethod\n",
    "    def addTransactions(Transtactions):\n",
    "        for tx in Transtactions:\n",
    "            elasticDatabase.index(index = CONST_ELASTIC_TRANSACTION_NAME, doc_type = 'b', body = tx)\n",
    "    \n",
    "    def indexRipple():\n",
    "        self.getLastValidatedLedger()\n",
    "        self.getCurrentLedgerIndex()\n",
    "        while self.CurrentLedgerIndex <= self.LastValidatedLedgerIndex:            \n",
    "            self.RL = RippleLedger(self.LastValidatedLedgerIndex)\n",
    "            self.addTransactions(self.RL.Transactions)\n",
    "            self.addLedger(self.RL.LedgerHeader)\n",
    "            self.CurrentLedgerIndex += 1\n",
    "    \n",
    "    def getCurrentLedgerIndex():\n",
    "        c = elasticDatabase.count(CONST_ELASTIC_LEDGER_INDEXNAME)['count']\n",
    "        self.CurrentLedgerIndex = elasticDatabase.get(index = CONST_ELASTIC_LEDGER_NAME, \n",
    "                                                      doc_type = CONST_ELASTIC_LEDGER_NAME, id = c)['_source']['seqNum']\n",
    "    \n",
    "    def getLastValidatedLedgerIndex():\n",
    "        try:\n",
    "            self.LastValidatedLedgerIndex = json.loads(requests.get(CONST_RIPPLE_HEALTH_CHECK).text)['last_validated_ledger']\n",
    "        except:\n",
    "            self.LastValidatedLedgerIndex = 1"
   ]
  },
  {
   "cell_type": "code",
   "execution_count": 216,
   "metadata": {},
   "outputs": [],
   "source": [
    "a = RippleLedger(8924146)"
   ]
  },
  {
   "cell_type": "code",
   "execution_count": 218,
   "metadata": {},
   "outputs": [
    {
     "data": {
      "text/plain": [
       "32"
      ]
     },
     "execution_count": 218,
     "metadata": {},
     "output_type": "execute_result"
    }
   ],
   "source": [
    "len(a.Transactions)"
   ]
  },
  {
   "cell_type": "code",
   "execution_count": 243,
   "metadata": {},
   "outputs": [],
   "source": [
    "elasticDatabase = elasticsearch.Elasticsearch([CONST_ELASTIC_URL], maxsize = CONST_ELASTIC_MAXSIZE,\n",
    "                                        timeout = CONST_ELASTIC_TIMEOUT, max_retries = CONST_ELASTIC_MAXRETRIES, \n",
    "                                        retry_on_timeout=True)"
   ]
  },
  {
   "cell_type": "code",
   "execution_count": 299,
   "metadata": {},
   "outputs": [
    {
     "data": {
      "text/plain": [
       "{'_id': '23',\n",
       " '_index': 'asd',\n",
       " '_primary_term': 1,\n",
       " '_seq_no': 3,\n",
       " '_shards': {'failed': 0, 'successful': 1, 'total': 2},\n",
       " '_type': 'b',\n",
       " '_version': 1,\n",
       " 'result': 'created'}"
      ]
     },
     "execution_count": 299,
     "metadata": {},
     "output_type": "execute_result"
    }
   ],
   "source": [
    "elasticDatabase.index(index = 'asd', doc_type='b', id = 23, body={'a':2, 'b':3})"
   ]
  },
  {
   "cell_type": "code",
   "execution_count": 297,
   "metadata": {},
   "outputs": [
    {
     "data": {
      "text/plain": [
       "14"
      ]
     },
     "execution_count": 297,
     "metadata": {},
     "output_type": "execute_result"
    }
   ],
   "source": [
    "elasticDatabase.count('asd')['count']"
   ]
  },
  {
   "cell_type": "code",
   "execution_count": 301,
   "metadata": {},
   "outputs": [
    {
     "name": "stderr",
     "output_type": "stream",
     "text": [
      "GET http://localhost:9200/asd1/b/NBvulmIB5DZXHrNgFMd0 [status:404 request:0.008s]\n"
     ]
    },
    {
     "ename": "NotFoundError",
     "evalue": "TransportError(404, 'index_not_found_exception', 'no such index')",
     "output_type": "error",
     "traceback": [
      "\u001b[1;31m---------------------------------------------------------------------------\u001b[0m",
      "\u001b[1;31mNotFoundError\u001b[0m                             Traceback (most recent call last)",
      "\u001b[1;32m<ipython-input-301-6ad604935618>\u001b[0m in \u001b[0;36m<module>\u001b[1;34m()\u001b[0m\n\u001b[1;32m----> 1\u001b[1;33m \u001b[0melasticDatabase\u001b[0m\u001b[1;33m.\u001b[0m\u001b[0mget\u001b[0m\u001b[1;33m(\u001b[0m\u001b[0mindex\u001b[0m\u001b[1;33m=\u001b[0m\u001b[1;34m'asd1'\u001b[0m\u001b[1;33m,\u001b[0m \u001b[0mdoc_type\u001b[0m\u001b[1;33m=\u001b[0m\u001b[1;34m'b'\u001b[0m\u001b[1;33m,\u001b[0m \u001b[0mid\u001b[0m\u001b[1;33m=\u001b[0m\u001b[1;34m'NBvulmIB5DZXHrNgFMd0'\u001b[0m\u001b[1;33m)\u001b[0m\u001b[1;33m[\u001b[0m\u001b[1;34m'_source'\u001b[0m\u001b[1;33m]\u001b[0m\u001b[1;33m\u001b[0m\u001b[0m\n\u001b[0m",
      "\u001b[1;32mD:\\Program_Files\\Anaconda3\\lib\\site-packages\\elasticsearch\\client\\utils.py\u001b[0m in \u001b[0;36m_wrapped\u001b[1;34m(*args, **kwargs)\u001b[0m\n\u001b[0;32m     74\u001b[0m                 \u001b[1;32mif\u001b[0m \u001b[0mp\u001b[0m \u001b[1;32min\u001b[0m \u001b[0mkwargs\u001b[0m\u001b[1;33m:\u001b[0m\u001b[1;33m\u001b[0m\u001b[0m\n\u001b[0;32m     75\u001b[0m                     \u001b[0mparams\u001b[0m\u001b[1;33m[\u001b[0m\u001b[0mp\u001b[0m\u001b[1;33m]\u001b[0m \u001b[1;33m=\u001b[0m \u001b[0mkwargs\u001b[0m\u001b[1;33m.\u001b[0m\u001b[0mpop\u001b[0m\u001b[1;33m(\u001b[0m\u001b[0mp\u001b[0m\u001b[1;33m)\u001b[0m\u001b[1;33m\u001b[0m\u001b[0m\n\u001b[1;32m---> 76\u001b[1;33m             \u001b[1;32mreturn\u001b[0m \u001b[0mfunc\u001b[0m\u001b[1;33m(\u001b[0m\u001b[1;33m*\u001b[0m\u001b[0margs\u001b[0m\u001b[1;33m,\u001b[0m \u001b[0mparams\u001b[0m\u001b[1;33m=\u001b[0m\u001b[0mparams\u001b[0m\u001b[1;33m,\u001b[0m \u001b[1;33m**\u001b[0m\u001b[0mkwargs\u001b[0m\u001b[1;33m)\u001b[0m\u001b[1;33m\u001b[0m\u001b[0m\n\u001b[0m\u001b[0;32m     77\u001b[0m         \u001b[1;32mreturn\u001b[0m \u001b[0m_wrapped\u001b[0m\u001b[1;33m\u001b[0m\u001b[0m\n\u001b[0;32m     78\u001b[0m     \u001b[1;32mreturn\u001b[0m \u001b[0m_wrapper\u001b[0m\u001b[1;33m\u001b[0m\u001b[0m\n",
      "\u001b[1;32mD:\\Program_Files\\Anaconda3\\lib\\site-packages\\elasticsearch\\client\\__init__.py\u001b[0m in \u001b[0;36mget\u001b[1;34m(self, index, doc_type, id, params)\u001b[0m\n\u001b[0;32m    409\u001b[0m                 \u001b[1;32mraise\u001b[0m \u001b[0mValueError\u001b[0m\u001b[1;33m(\u001b[0m\u001b[1;34m\"Empty value passed for a required argument.\"\u001b[0m\u001b[1;33m)\u001b[0m\u001b[1;33m\u001b[0m\u001b[0m\n\u001b[0;32m    410\u001b[0m         return self.transport.perform_request('GET', _make_path(index,\n\u001b[1;32m--> 411\u001b[1;33m             doc_type, id), params=params)\n\u001b[0m\u001b[0;32m    412\u001b[0m \u001b[1;33m\u001b[0m\u001b[0m\n\u001b[0;32m    413\u001b[0m     @query_params('_source', '_source_exclude', '_source_include', 'parent',\n",
      "\u001b[1;32mD:\\Program_Files\\Anaconda3\\lib\\site-packages\\elasticsearch\\transport.py\u001b[0m in \u001b[0;36mperform_request\u001b[1;34m(self, method, url, headers, params, body)\u001b[0m\n\u001b[0;32m    312\u001b[0m \u001b[1;33m\u001b[0m\u001b[0m\n\u001b[0;32m    313\u001b[0m             \u001b[1;32mtry\u001b[0m\u001b[1;33m:\u001b[0m\u001b[1;33m\u001b[0m\u001b[0m\n\u001b[1;32m--> 314\u001b[1;33m                 \u001b[0mstatus\u001b[0m\u001b[1;33m,\u001b[0m \u001b[0mheaders_response\u001b[0m\u001b[1;33m,\u001b[0m \u001b[0mdata\u001b[0m \u001b[1;33m=\u001b[0m \u001b[0mconnection\u001b[0m\u001b[1;33m.\u001b[0m\u001b[0mperform_request\u001b[0m\u001b[1;33m(\u001b[0m\u001b[0mmethod\u001b[0m\u001b[1;33m,\u001b[0m \u001b[0murl\u001b[0m\u001b[1;33m,\u001b[0m \u001b[0mparams\u001b[0m\u001b[1;33m,\u001b[0m \u001b[0mbody\u001b[0m\u001b[1;33m,\u001b[0m \u001b[0mheaders\u001b[0m\u001b[1;33m=\u001b[0m\u001b[0mheaders\u001b[0m\u001b[1;33m,\u001b[0m \u001b[0mignore\u001b[0m\u001b[1;33m=\u001b[0m\u001b[0mignore\u001b[0m\u001b[1;33m,\u001b[0m \u001b[0mtimeout\u001b[0m\u001b[1;33m=\u001b[0m\u001b[0mtimeout\u001b[0m\u001b[1;33m)\u001b[0m\u001b[1;33m\u001b[0m\u001b[0m\n\u001b[0m\u001b[0;32m    315\u001b[0m \u001b[1;33m\u001b[0m\u001b[0m\n\u001b[0;32m    316\u001b[0m             \u001b[1;32mexcept\u001b[0m \u001b[0mTransportError\u001b[0m \u001b[1;32mas\u001b[0m \u001b[0me\u001b[0m\u001b[1;33m:\u001b[0m\u001b[1;33m\u001b[0m\u001b[0m\n",
      "\u001b[1;32mD:\\Program_Files\\Anaconda3\\lib\\site-packages\\elasticsearch\\connection\\http_urllib3.py\u001b[0m in \u001b[0;36mperform_request\u001b[1;34m(self, method, url, params, body, timeout, ignore, headers)\u001b[0m\n\u001b[0;32m    161\u001b[0m         \u001b[1;32mif\u001b[0m \u001b[1;32mnot\u001b[0m \u001b[1;33m(\u001b[0m\u001b[1;36m200\u001b[0m \u001b[1;33m<=\u001b[0m \u001b[0mresponse\u001b[0m\u001b[1;33m.\u001b[0m\u001b[0mstatus\u001b[0m \u001b[1;33m<\u001b[0m \u001b[1;36m300\u001b[0m\u001b[1;33m)\u001b[0m \u001b[1;32mand\u001b[0m \u001b[0mresponse\u001b[0m\u001b[1;33m.\u001b[0m\u001b[0mstatus\u001b[0m \u001b[1;32mnot\u001b[0m \u001b[1;32min\u001b[0m \u001b[0mignore\u001b[0m\u001b[1;33m:\u001b[0m\u001b[1;33m\u001b[0m\u001b[0m\n\u001b[0;32m    162\u001b[0m             \u001b[0mself\u001b[0m\u001b[1;33m.\u001b[0m\u001b[0mlog_request_fail\u001b[0m\u001b[1;33m(\u001b[0m\u001b[0mmethod\u001b[0m\u001b[1;33m,\u001b[0m \u001b[0mfull_url\u001b[0m\u001b[1;33m,\u001b[0m \u001b[0murl\u001b[0m\u001b[1;33m,\u001b[0m \u001b[0mbody\u001b[0m\u001b[1;33m,\u001b[0m \u001b[0mduration\u001b[0m\u001b[1;33m,\u001b[0m \u001b[0mresponse\u001b[0m\u001b[1;33m.\u001b[0m\u001b[0mstatus\u001b[0m\u001b[1;33m,\u001b[0m \u001b[0mraw_data\u001b[0m\u001b[1;33m)\u001b[0m\u001b[1;33m\u001b[0m\u001b[0m\n\u001b[1;32m--> 163\u001b[1;33m             \u001b[0mself\u001b[0m\u001b[1;33m.\u001b[0m\u001b[0m_raise_error\u001b[0m\u001b[1;33m(\u001b[0m\u001b[0mresponse\u001b[0m\u001b[1;33m.\u001b[0m\u001b[0mstatus\u001b[0m\u001b[1;33m,\u001b[0m \u001b[0mraw_data\u001b[0m\u001b[1;33m)\u001b[0m\u001b[1;33m\u001b[0m\u001b[0m\n\u001b[0m\u001b[0;32m    164\u001b[0m \u001b[1;33m\u001b[0m\u001b[0m\n\u001b[0;32m    165\u001b[0m         self.log_request_success(method, full_url, url, body, response.status,\n",
      "\u001b[1;32mD:\\Program_Files\\Anaconda3\\lib\\site-packages\\elasticsearch\\connection\\base.py\u001b[0m in \u001b[0;36m_raise_error\u001b[1;34m(self, status_code, raw_data)\u001b[0m\n\u001b[0;32m    123\u001b[0m             \u001b[0mlogger\u001b[0m\u001b[1;33m.\u001b[0m\u001b[0mwarning\u001b[0m\u001b[1;33m(\u001b[0m\u001b[1;34m'Undecodable raw error response from server: %s'\u001b[0m\u001b[1;33m,\u001b[0m \u001b[0merr\u001b[0m\u001b[1;33m)\u001b[0m\u001b[1;33m\u001b[0m\u001b[0m\n\u001b[0;32m    124\u001b[0m \u001b[1;33m\u001b[0m\u001b[0m\n\u001b[1;32m--> 125\u001b[1;33m         \u001b[1;32mraise\u001b[0m \u001b[0mHTTP_EXCEPTIONS\u001b[0m\u001b[1;33m.\u001b[0m\u001b[0mget\u001b[0m\u001b[1;33m(\u001b[0m\u001b[0mstatus_code\u001b[0m\u001b[1;33m,\u001b[0m \u001b[0mTransportError\u001b[0m\u001b[1;33m)\u001b[0m\u001b[1;33m(\u001b[0m\u001b[0mstatus_code\u001b[0m\u001b[1;33m,\u001b[0m \u001b[0merror_message\u001b[0m\u001b[1;33m,\u001b[0m \u001b[0madditional_info\u001b[0m\u001b[1;33m)\u001b[0m\u001b[1;33m\u001b[0m\u001b[0m\n\u001b[0m\u001b[0;32m    126\u001b[0m \u001b[1;33m\u001b[0m\u001b[0m\n\u001b[0;32m    127\u001b[0m \u001b[1;33m\u001b[0m\u001b[0m\n",
      "\u001b[1;31mNotFoundError\u001b[0m: TransportError(404, 'index_not_found_exception', 'no such index')"
     ]
    }
   ],
   "source": [
    "elasticDatabase.get(index='asd1', doc_type='b', id='NBvulmIB5DZXHrNgFMd0')['_source']"
   ]
  },
  {
   "cell_type": "code",
   "execution_count": 300,
   "metadata": {},
   "outputs": [
    {
     "data": {
      "text/plain": [
       "{'_shards': {'failed': 0, 'skipped': 0, 'successful': 5, 'total': 5},\n",
       " 'hits': {'hits': [{'_id': 'QxvulmIB5DZXHrNgRsev',\n",
       "    '_index': 'asd',\n",
       "    '_score': 1.0,\n",
       "    '_source': {'a': 2},\n",
       "    '_type': 'b'},\n",
       "   {'_id': 'RBvulmIB5DZXHrNgTceu',\n",
       "    '_index': 'asd',\n",
       "    '_score': 1.0,\n",
       "    '_source': {'a': 2},\n",
       "    '_type': 'b'},\n",
       "   {'_id': '8',\n",
       "    '_index': 'asd',\n",
       "    '_score': 1.0,\n",
       "    '_source': {'a': 5},\n",
       "    '_type': 'b'},\n",
       "   {'_id': '5',\n",
       "    '_index': 'asd',\n",
       "    '_score': 1.0,\n",
       "    '_source': {'a': 2},\n",
       "    '_type': 'b'},\n",
       "   {'_id': 'NBvulmIB5DZXHrNgFMd0',\n",
       "    '_index': 'asd',\n",
       "    '_score': 1.0,\n",
       "    '_source': {'a': 2},\n",
       "    '_type': 'b'},\n",
       "   {'_id': '2',\n",
       "    '_index': 'asd',\n",
       "    '_score': 1.0,\n",
       "    '_source': {'a': 1},\n",
       "    '_type': 'b'},\n",
       "   {'_id': '4',\n",
       "    '_index': 'asd',\n",
       "    '_score': 1.0,\n",
       "    '_source': {'a': 2},\n",
       "    '_type': 'b'},\n",
       "   {'_id': '6',\n",
       "    '_index': 'asd',\n",
       "    '_score': 1.0,\n",
       "    '_source': {'a': 2},\n",
       "    '_type': 'b'},\n",
       "   {'_id': 'JxvtlmIB5DZXHrNg3cc2',\n",
       "    '_index': 'asd',\n",
       "    '_score': 1.0,\n",
       "    '_source': {'a': 2},\n",
       "    '_type': 'b'},\n",
       "   {'_id': 'QRvulmIB5DZXHrNgOsds',\n",
       "    '_index': 'asd',\n",
       "    '_score': 1.0,\n",
       "    '_source': {'a': 2},\n",
       "    '_type': 'b'}],\n",
       "  'max_score': 1.0,\n",
       "  'total': 15},\n",
       " 'timed_out': False,\n",
       " 'took': 13}"
      ]
     },
     "execution_count": 300,
     "metadata": {},
     "output_type": "execute_result"
    }
   ],
   "source": [
    "elasticDatabase.search('asd')"
   ]
  },
  {
   "cell_type": "code",
   "execution_count": null,
   "metadata": {},
   "outputs": [],
   "source": []
  }
 ],
 "metadata": {
  "kernelspec": {
   "display_name": "Python 3",
   "language": "python",
   "name": "python3"
  },
  "language_info": {
   "codemirror_mode": {
    "name": "ipython",
    "version": 3
   },
   "file_extension": ".py",
   "mimetype": "text/x-python",
   "name": "python",
   "nbconvert_exporter": "python",
   "pygments_lexer": "ipython3",
   "version": "3.6.4"
  }
 },
 "nbformat": 4,
 "nbformat_minor": 2
}
